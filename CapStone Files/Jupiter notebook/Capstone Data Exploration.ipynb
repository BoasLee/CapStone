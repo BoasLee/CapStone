{
 "cells": [
  {
   "cell_type": "markdown",
   "id": "5d689873-5f73-47eb-8b31-80a3f3323276",
   "metadata": {},
   "source": [
    "# Set Up"
   ]
  },
  {
   "cell_type": "markdown",
   "id": "086b3a53-4f30-49eb-a848-9ec3bd1cfb00",
   "metadata": {},
   "source": [
    "## Global Variables"
   ]
  },
  {
   "cell_type": "code",
   "execution_count": 161,
   "id": "a1db5bb1-142b-46bc-a353-6c5cc36f68cb",
   "metadata": {},
   "outputs": [],
   "source": [
    "base_file_location =  \"C:\\\\Users\\\\Boas\\\\Downloads\\\\movies_datasets\\\\un_zip data\"\n",
    "data_set_url_info = \"https://developer.imdb.com/non-commercial-datasets/\""
   ]
  },
  {
   "cell_type": "markdown",
   "id": "a41f39c3-53d0-4fb6-ad3c-016a397fba7e",
   "metadata": {
    "jp-MarkdownHeadingCollapsed": true
   },
   "source": [
    "## Imports"
   ]
  },
  {
   "cell_type": "code",
   "execution_count": 211,
   "id": "29e5da13-7a47-4784-963d-45fd140df50a",
   "metadata": {},
   "outputs": [],
   "source": [
    "import pandas as pd\n",
    "import os\n",
    "import requests\n",
    "from bs4 import BeautifulSoup"
   ]
  },
  {
   "cell_type": "markdown",
   "id": "613ed0b0-dd3b-4d40-9b19-177e18d36adc",
   "metadata": {
    "jp-MarkdownHeadingCollapsed": true
   },
   "source": [
    "## Functions"
   ]
  },
  {
   "cell_type": "code",
   "execution_count": 212,
   "id": "506c85a5-d45d-4274-b8f2-22d2774a3366",
   "metadata": {},
   "outputs": [],
   "source": [
    "def get_list_of_file(input_file_location):\n",
    "    files = [f for f in os.listdir(input_file_location) if os.path.isfile(os.path.join(input_file_location, f))]    \n",
    "    return files\n"
   ]
  },
  {
   "cell_type": "code",
   "execution_count": 213,
   "id": "503af260-5bc9-49c5-b16c-f14842554789",
   "metadata": {},
   "outputs": [],
   "source": [
    "def read_file(file):\n",
    "    df = pd.read_csv(file, sep='\\t')\n",
    "    return df"
   ]
  },
  {
   "cell_type": "code",
   "execution_count": 214,
   "id": "a25e32a1-263a-4257-8670-bd3d1a279770",
   "metadata": {},
   "outputs": [],
   "source": [
    "def start_file(file):\n",
    "    print(\"*-*-*-*-*-*-*-*-*-**-*-*-*-*-*-*-*\")\n",
    "    print(\"File Name: \", file)\n",
    "    "
   ]
  },
  {
   "cell_type": "code",
   "execution_count": 224,
   "id": "11fe484b-4346-4041-97a3-d2c434e852ba",
   "metadata": {},
   "outputs": [],
   "source": [
    "def end_file():\n",
    "    print(\"*-*-*-*-*-*-*-*-*-**-*-*-*-*-*-*-*\") \n",
    "    print()"
   ]
  },
  {
   "cell_type": "code",
   "execution_count": 225,
   "id": "90f6b948-8f10-4a75-b283-27787f3160bb",
   "metadata": {},
   "outputs": [],
   "source": [
    "def print_column_info(files):\n",
    "    binary_columns = []\n",
    "    homogenous_columns = []\n",
    "    for file in files:\n",
    "        start_file(file)\n",
    "        curr_file = os.path.join(base_file_location,file)\n",
    "        data = read_file(curr_file)\n",
    "        columns = data.columns.tolist()\n",
    "        for column in columns:\n",
    "            num_unique = data[column].nunique()\n",
    "            print(column, \":\", num_unique)\n",
    "            if num_unique == 1:\n",
    "                homogenous_columns.append(column)\n",
    "            elif num_unique == 2:\n",
    "                binary_columns.append(column)\n",
    "        end_file()\n",
    "    return homogenous_columns, binary_columns"
   ]
  },
  {
   "cell_type": "code",
   "execution_count": 226,
   "id": "96775057-34da-4e4c-b75f-7be95f630261",
   "metadata": {},
   "outputs": [],
   "source": [
    "def print_list(data):\n",
    "    if data:\n",
    "        for item in data: \n",
    "            print(item)\n",
    "    else: \n",
    "        print (\"No data in list\")"
   ]
  },
  {
   "cell_type": "markdown",
   "id": "813db3b1-6468-42d5-811b-d51c10fb6c37",
   "metadata": {},
   "source": [
    "# Questions"
   ]
  },
  {
   "cell_type": "markdown",
   "id": "ff4c90a5-3c62-40b7-8a01-8c5ff2f6dac1",
   "metadata": {},
   "source": [
    "## 1. Is the data homogenous in each column?"
   ]
  },
  {
   "cell_type": "code",
   "execution_count": 227,
   "id": "2fc02450-563d-4927-b49a-9211dbe3b680",
   "metadata": {},
   "outputs": [
    {
     "name": "stdout",
     "output_type": "stream",
     "text": [
      "*-*-*-*-*-*-*-*-*-**-*-*-*-*-*-*-*\n",
      "File Name:  name.basics.tsv\n",
      "nconst : 1413\n",
      "primaryName : 1411\n",
      "birthYear : 119\n",
      "deathYear : 97\n",
      "primaryProfession : 353\n",
      "knownForTitles : 50\n",
      "*-*-*-*-*-*-*-*-*-**-*-*-*-*-*-*-*\n",
      "\n",
      "*-*-*-*-*-*-*-*-*-**-*-*-*-*-*-*-*\n",
      "File Name:  title.akas.tsv\n",
      "titleId : 218\n",
      "ordering : 34\n",
      "title : 546\n",
      "region : 57\n",
      "language : 19\n",
      "types : 8\n",
      "attributes : 14\n",
      "isOriginalTitle : 2\n",
      "*-*-*-*-*-*-*-*-*-**-*-*-*-*-*-*-*\n",
      "\n",
      "*-*-*-*-*-*-*-*-*-**-*-*-*-*-*-*-*\n",
      "File Name:  title.basics.tsv\n",
      "tconst : 218\n",
      "titleType : 8\n",
      "primaryTitle : 217\n",
      "originalTitle : 217\n",
      "isAdult : 2\n",
      "startYear : 59\n",
      "endYear : 4\n",
      "runtimeMinutes : 40\n",
      "genres : 44\n",
      "*-*-*-*-*-*-*-*-*-**-*-*-*-*-*-*-*\n",
      "\n",
      "*-*-*-*-*-*-*-*-*-**-*-*-*-*-*-*-*\n",
      "File Name:  title.crew.tsv\n",
      "tconst : 218\n",
      "directors : 97\n",
      "writers : 95\n",
      "*-*-*-*-*-*-*-*-*-**-*-*-*-*-*-*-*\n",
      "\n",
      "*-*-*-*-*-*-*-*-*-**-*-*-*-*-*-*-*\n",
      "File Name:  title.episode.tsv\n",
      "tconst : 118\n",
      "parentTconst : 5\n",
      "seasonNumber : 5\n",
      "episodeNumber : 26\n",
      "*-*-*-*-*-*-*-*-*-**-*-*-*-*-*-*-*\n",
      "\n",
      "*-*-*-*-*-*-*-*-*-**-*-*-*-*-*-*-*\n",
      "File Name:  title.principals.tsv\n",
      "tconst : 214\n",
      "ordering : 25\n",
      "nconst : 1406\n",
      "category : 12\n",
      "job : 40\n",
      "characters : 735\n",
      "*-*-*-*-*-*-*-*-*-**-*-*-*-*-*-*-*\n",
      "\n",
      "*-*-*-*-*-*-*-*-*-**-*-*-*-*-*-*-*\n",
      "File Name:  title.ratings.tsv\n",
      "tconst : 100\n",
      "averageRating : 33\n",
      "numVotes : 39\n",
      "*-*-*-*-*-*-*-*-*-**-*-*-*-*-*-*-*\n",
      "\n",
      "Columns with only a single value\n",
      "No data in list\n",
      "\n",
      "Columns with 2 unique values\n",
      "isOriginalTitle\n",
      "isAdult\n"
     ]
    }
   ],
   "source": [
    "files = get_list_of_file(base_file_location)\n",
    "binary_columns = []\n",
    "homogenous_columns = []\n",
    "\n",
    "homogenous_columns, binary_columns = print_column_info(files)\n",
    "\n",
    "print(\"Columns with only a single value\")\n",
    "print_list(homogenous_columns)\n",
    "\n",
    "print()\n",
    "print(\"Columns with 2 unique values\")\n",
    "print_list(binary_columns)\n"
   ]
  },
  {
   "cell_type": "markdown",
   "id": "f8580ae4-78ca-4706-a9ea-9325d2d33665",
   "metadata": {},
   "source": [
    "## 2. How do you anticipate this data will be used by data analysts and scientists downstream?"
   ]
  },
  {
   "cell_type": "code",
   "execution_count": 249,
   "id": "c4c6fb83-d747-4bec-84d0-607eb34cbf65",
   "metadata": {},
   "outputs": [
    {
     "name": "stdout",
     "output_type": "stream",
     "text": [
      "*-*-*-*-*-*-*-*-*-**-*-*-*-*-*-*-*\n",
      "File Name:  title.akas.tsv.gz\n",
      "titleId (string) - a tconst, an alphanumeric unique identifier of the title\n",
      "ordering (integer) – a number to uniquely identify rows for a given titleId\n",
      "title (string) – the localized title\n",
      "region (string) - the region for this version of the title\n",
      "language (string) - the language of the title\n",
      "types (array) - Enumerated set of attributes for this alternative title. One or more of the following: \"alternative\", \"dvd\", \"festival\", \"tv\", \"video\", \"working\", \"original\", \"imdbDisplay\". New values may be added in the future without warning\n",
      "attributes (array) - Additional terms to describe this alternative title, not enumerated\n",
      "isOriginalTitle (boolean) – 0: not original title; 1: original title\n",
      "*-*-*-*-*-*-*-*-*-**-*-*-*-*-*-*-*\n",
      "\n",
      "*-*-*-*-*-*-*-*-*-**-*-*-*-*-*-*-*\n",
      "File Name:  title.basics.tsv.gz\n",
      "tconst (string) - alphanumeric unique identifier of the title\n",
      "titleType (string) – the type/format of the title (e.g. movie, short, tvseries, tvepisode, video, etc)\n",
      "primaryTitle (string) – the more popular title / the title used by the filmmakers on promotional materials at the point of release\n",
      "originalTitle (string) - original title, in the original language\n",
      "isAdult (boolean) - 0: non-adult title; 1: adult title\n",
      "startYear (YYYY) – represents the release year of a title. In the case of TV Series, it is the series start year\n",
      "endYear (YYYY) – TV Series end year. '\\N' for all other title types\n",
      "runtimeMinutes – primary runtime of the title, in minutes\n",
      "genres (string array) – includes up to three genres associated with the title\n",
      "*-*-*-*-*-*-*-*-*-**-*-*-*-*-*-*-*\n",
      "\n",
      "*-*-*-*-*-*-*-*-*-**-*-*-*-*-*-*-*\n",
      "File Name:  title.crew.tsv.gz\n",
      "tconst (string) - alphanumeric unique identifier of the title\n",
      "directors (array of nconsts) - director(s) of the given title\n",
      "writers (array of nconsts) – writer(s) of the given title\n",
      "*-*-*-*-*-*-*-*-*-**-*-*-*-*-*-*-*\n",
      "\n",
      "*-*-*-*-*-*-*-*-*-**-*-*-*-*-*-*-*\n",
      "File Name:  title.episode.tsv.gz\n",
      "tconst (string) - alphanumeric identifier of episode\n",
      "parentTconst (string) - alphanumeric identifier of the parent TV Series\n",
      "seasonNumber (integer) – season number the episode belongs to\n",
      "episodeNumber (integer) – episode number of the tconst in the TV series\n",
      "*-*-*-*-*-*-*-*-*-**-*-*-*-*-*-*-*\n",
      "\n",
      "*-*-*-*-*-*-*-*-*-**-*-*-*-*-*-*-*\n",
      "File Name:  title.principals.tsv.gz\n",
      "tconst (string) - alphanumeric unique identifier of the title\n",
      "ordering (integer) – a number to uniquely identify rows for a given titleId\n",
      "nconst (string) - alphanumeric unique identifier of the name/person\n",
      "category (string) - the category of job that person was in\n",
      "job (string) - the specific job title if applicable, else '\\N'\n",
      "characters (string) - the name of the character played if applicable, else '\\N'\n",
      "*-*-*-*-*-*-*-*-*-**-*-*-*-*-*-*-*\n",
      "\n",
      "*-*-*-*-*-*-*-*-*-**-*-*-*-*-*-*-*\n",
      "File Name:  title.ratings.tsv.gz\n",
      "tconst (string) - alphanumeric unique identifier of the title\n",
      "averageRating – weighted average of all the individual user ratings\n",
      "numVotes - number of votes the title has received\n",
      "*-*-*-*-*-*-*-*-*-**-*-*-*-*-*-*-*\n",
      "\n",
      "*-*-*-*-*-*-*-*-*-**-*-*-*-*-*-*-*\n",
      "File Name:  name.basics.tsv.gz\n",
      "nconst (string) - alphanumeric unique identifier of the name/person\n",
      "primaryName (string)– name by which the person is most often credited\n",
      "birthYear – in YYYY format\n",
      "deathYear – in YYYY format if applicable, else '\\N'\n",
      "primaryProfession (array of strings)– the top-3 professions of the person\n",
      "knownForTitles (array of tconsts) – titles the person is known for\n",
      "*-*-*-*-*-*-*-*-*-**-*-*-*-*-*-*-*\n",
      "\n"
     ]
    }
   ],
   "source": [
    "response = requests.get(data_set_url_info)\n",
    "response.encoding = \"utf-8\"\n",
    "soup = BeautifulSoup(response.text, 'html.parser')\n",
    "\n",
    "for h3 in soup.find_all(\"h3\"):\n",
    "    start_file(h3.text)\n",
    "    descriptions = h3.find_next('ul')\n",
    "    for li in descriptions.find_all(\"li\"):\n",
    "        print(li.text.strip())\n",
    "    end_file()\n",
    "        "
   ]
  },
  {
   "cell_type": "markdown",
   "id": "6d76bfb9-4470-4193-8b01-b9c72e97354e",
   "metadata": {},
   "source": [
    "## 3. Does your answer to the last question give you an indication of how you can store the data for optimal querying speed and storage file compression?\n"
   ]
  },
  {
   "cell_type": "markdown",
   "id": "a64dc907-9029-48a7-9370-974e9ce5c69a",
   "metadata": {},
   "source": [
    "It looks like everything might be inside the \"title basic\" table. It would be nice if the title basic didn't have any repeats/episodes for tv shows, mini series, etc. since we already have another table that has information about tv shows. "
   ]
  },
  {
   "cell_type": "markdown",
   "id": "63e9827e-07c3-4340-b337-f59e545940cf",
   "metadata": {},
   "source": [
    "## 4. What cleaning steps do you need to perform to make your dataset ready for consumption?\n"
   ]
  },
  {
   "cell_type": "markdown",
   "id": "2d1517ba-205a-4556-90e1-6fee9136c578",
   "metadata": {},
   "source": [
    "+ Get rid of all \"adult films\"\n",
    "+ Get rid of \"dupes\" (episodes) only values in title.episode.tv.parentTconst should exsistin in title.basic. If it does exsist in title.basic, all of the data in title.basic should be transferred to title.episode. \n",
    "+ Pivot cells that have multiple data (arrays). ()"
   ]
  },
  {
   "cell_type": "markdown",
   "id": "f83bddd6-28b5-4eff-b00d-6e1c9552629d",
   "metadata": {},
   "source": [
    "## 5. What wrangling steps do you need to perform to enrich your dataset with additional information?"
   ]
  },
  {
   "cell_type": "code",
   "execution_count": null,
   "id": "d2654bbc-2ee1-47a5-b878-9b92af4664a7",
   "metadata": {},
   "outputs": [],
   "source": [
    "I wil have to join, pivot, and add/delete specific rows of data to make sure they are in the correct table(s)"
   ]
  }
 ],
 "metadata": {
  "kernelspec": {
   "display_name": "Python 3 (ipykernel)",
   "language": "python",
   "name": "python3"
  },
  "language_info": {
   "codemirror_mode": {
    "name": "ipython",
    "version": 3
   },
   "file_extension": ".py",
   "mimetype": "text/x-python",
   "name": "python",
   "nbconvert_exporter": "python",
   "pygments_lexer": "ipython3",
   "version": "3.12.7"
  }
 },
 "nbformat": 4,
 "nbformat_minor": 5
}
